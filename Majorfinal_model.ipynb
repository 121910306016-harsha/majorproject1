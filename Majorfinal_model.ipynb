{
  "cells": [
    {
      "cell_type": "markdown",
      "metadata": {
        "id": "dp031BruAc1U"
      },
      "source": [
        "Batch-8 Detection and localisation of myocardial infraction ---- Part2 (We have preprocessed the data , extracted the features and saved the trainingset and testing set )"
      ]
    },
    {
      "cell_type": "code",
      "execution_count": 1,
      "metadata": {
        "colab": {
          "base_uri": "https://localhost:8080/"
        },
        "id": "_frMX9Ks_Mwb",
        "outputId": "5754e66d-aebe-4f5c-c97c-f2ad737c9648"
      },
      "outputs": [
        {
          "output_type": "stream",
          "name": "stdout",
          "text": [
            "Colab only includes TensorFlow 2.x; %tensorflow_version has no effect.\n",
            "Tensorflow version 2.11.0\n"
          ]
        }
      ],
      "source": [
        "%tensorflow_version 2.x\n",
        "import tensorflow as tf\n",
        "print(\"Tensorflow version \" + tf.__version__)"
      ]
    },
    {
      "cell_type": "code",
      "execution_count": 2,
      "metadata": {
        "colab": {
          "base_uri": "https://localhost:8080/"
        },
        "id": "nQoJgGiYApwF",
        "outputId": "2e7718a7-8f2c-4734-afdc-924a09d887cf"
      },
      "outputs": [
        {
          "output_type": "stream",
          "name": "stdout",
          "text": [
            "Found GPU at: /device:GPU:0\n"
          ]
        }
      ],
      "source": [
        "device_name = tf.test.gpu_device_name()\n",
        "if device_name != '/device:GPU:0':\n",
        "  raise SystemError('GPU device not found')\n",
        "print('Found GPU at: {}'.format(device_name))"
      ]
    },
    {
      "cell_type": "code",
      "execution_count": 3,
      "metadata": {
        "id": "R5_SmOX4A0eA"
      },
      "outputs": [],
      "source": [
        "import numpy as np\n",
        "import pandas as pd\n",
        "import matplotlib.pyplot as plt\n",
        "from collections import Counter\n",
        "import itertools\n",
        "import warnings\n",
        "warnings.simplefilter(action = 'ignore', category = FutureWarning)\n",
        "%matplotlib inline\n",
        "     "
      ]
    },
    {
      "cell_type": "code",
      "execution_count": 4,
      "metadata": {
        "colab": {
          "base_uri": "https://localhost:8080/"
        },
        "id": "SaXE9_J_A2uA",
        "outputId": "ba9df902-3355-4c6a-dd8f-66d323321baa"
      },
      "outputs": [
        {
          "output_type": "stream",
          "name": "stdout",
          "text": [
            "Mounted at /content/drive\n"
          ]
        }
      ],
      "source": [
        "from google.colab import drive\n",
        "drive.mount('/content/drive')"
      ]
    },
    {
      "cell_type": "markdown",
      "metadata": {
        "id": "0P9za43DBXTw"
      },
      "source": [
        "Here we Imported the  trainedset and trainset we created in feature extraction"
      ]
    },
    {
      "cell_type": "code",
      "execution_count": 5,
      "metadata": {
        "id": "9f2q18iQBCBN"
      },
      "outputs": [],
      "source": [
        "X_train = np.load('/content/drive/My Drive/majorproject/XTrain.npy')\n",
        "\n",
        "X_test = np.load('/content/drive/My Drive/majorproject/XTest.npy')\n",
        "\n",
        "y_train = np.load('/content/drive/My Drive/majorproject/yTrain.npy')\n",
        "  \n",
        "y_test = np.load('/content/drive/My Drive/majorproject/yTest.npy')"
      ]
    },
    {
      "cell_type": "code",
      "execution_count": 6,
      "metadata": {
        "id": "aPSRqI4hBWgJ"
      },
      "outputs": [],
      "source": [
        "import keras\n",
        "from tensorflow.keras.models import Sequential\n",
        "from tensorflow.keras.layers import Conv1D, MaxPooling1D, Flatten, Dropout, Dense, Activation\n",
        "from tensorflow.keras.layers import GlobalAveragePooling1D, BatchNormalization, LSTM, Bidirectional\n",
        "from tensorflow.keras.optimizers import Adam\n",
        "from tensorflow.keras.metrics import categorical_crossentropy\n",
        "from tensorflow.keras.regularizers import l1, l2, l1_l2 "
      ]
    },
    {
      "cell_type": "code",
      "execution_count": 7,
      "metadata": {
        "id": "YSZYxo6pBw8l"
      },
      "outputs": [],
      "source": [
        "    reg2 = l2(0.01)  \n",
        "    model = Sequential()\n",
        "    model.add(Conv1D(filters=128,kernel_size=1, activation=\"relu\", input_shape = (36, 1)))\n",
        "    model.add(Conv1D(filters=128,kernel_size=1, activation=\"relu\"))\n",
        "    model.add(MaxPooling1D(pool_size=1))\n",
        "    model.add(Dropout(0.1))\n",
        "    model.add(Conv1D(filters=128, kernel_size=1, activation=\"relu\"))\n",
        "    model.add(Conv1D(filters=128, kernel_size=1, activation=\"relu\"))\n",
        "    model.add(MaxPooling1D(pool_size=1))\n",
        "    model.add(Dropout(0.1))\n",
        "    model.add(Conv1D(filters=256, kernel_size=1, activation=\"relu\"))\n",
        "    model.add(Conv1D(filters=256, kernel_size=1, activation=\"relu\"))\n",
        "    model.add(MaxPooling1D(pool_size=1))\n",
        "    model.add(Dropout(0.1))\n",
        "    model.add(Conv1D(filters=256, kernel_size=1, activation=\"relu\"))\n",
        "    model.add(Conv1D(filters=256, kernel_size=1, activation=\"relu\"))\n",
        "    model.add(MaxPooling1D(pool_size = 1))\n",
        "    model.add(Dropout(0.1))\n",
        "    model.add(Bidirectional(LSTM(256, return_sequences=True)))\n",
        "    model.add(Dropout(0.1))\n",
        "    model.add(Bidirectional(LSTM(128, return_sequences=True)))\n",
        "    model.add(Dropout(0.1))\n",
        "    model.add(Bidirectional(LSTM(128, return_sequences=True)))\n",
        "    model.add(Dropout(0.1))\n",
        "    model.add(Flatten())\n",
        "    model.add(Dense(units=256,activation=\"relu\", kernel_regularizer = reg2, bias_regularizer = reg2))\n",
        "    model.add(BatchNormalization())\n",
        "    model.add(Dropout(0.2))\n",
        "    model.add(Dense(units=256,activation=\"relu\", kernel_regularizer = reg2, bias_regularizer = reg2))\n",
        "    model.add(BatchNormalization())\n",
        "    model.add(Dropout(0.2))\n",
        "    model.add(Dense(units=10, activation=\"softmax\"))"
      ]
    },
    {
      "cell_type": "code",
      "execution_count": 8,
      "metadata": {
        "colab": {
          "base_uri": "https://localhost:8080/"
        },
        "id": "Bmo-Y-2JB9pC",
        "outputId": "f473664e-e62f-4930-a4aa-c3a864f15a99"
      },
      "outputs": [
        {
          "output_type": "stream",
          "name": "stdout",
          "text": [
            "Model: \"sequential\"\n",
            "_________________________________________________________________\n",
            " Layer (type)                Output Shape              Param #   \n",
            "=================================================================\n",
            " conv1d (Conv1D)             (None, 36, 128)           256       \n",
            "                                                                 \n",
            " conv1d_1 (Conv1D)           (None, 36, 128)           16512     \n",
            "                                                                 \n",
            " max_pooling1d (MaxPooling1D  (None, 36, 128)          0         \n",
            " )                                                               \n",
            "                                                                 \n",
            " dropout (Dropout)           (None, 36, 128)           0         \n",
            "                                                                 \n",
            " conv1d_2 (Conv1D)           (None, 36, 128)           16512     \n",
            "                                                                 \n",
            " conv1d_3 (Conv1D)           (None, 36, 128)           16512     \n",
            "                                                                 \n",
            " max_pooling1d_1 (MaxPooling  (None, 36, 128)          0         \n",
            " 1D)                                                             \n",
            "                                                                 \n",
            " dropout_1 (Dropout)         (None, 36, 128)           0         \n",
            "                                                                 \n",
            " conv1d_4 (Conv1D)           (None, 36, 256)           33024     \n",
            "                                                                 \n",
            " conv1d_5 (Conv1D)           (None, 36, 256)           65792     \n",
            "                                                                 \n",
            " max_pooling1d_2 (MaxPooling  (None, 36, 256)          0         \n",
            " 1D)                                                             \n",
            "                                                                 \n",
            " dropout_2 (Dropout)         (None, 36, 256)           0         \n",
            "                                                                 \n",
            " conv1d_6 (Conv1D)           (None, 36, 256)           65792     \n",
            "                                                                 \n",
            " conv1d_7 (Conv1D)           (None, 36, 256)           65792     \n",
            "                                                                 \n",
            " max_pooling1d_3 (MaxPooling  (None, 36, 256)          0         \n",
            " 1D)                                                             \n",
            "                                                                 \n",
            " dropout_3 (Dropout)         (None, 36, 256)           0         \n",
            "                                                                 \n",
            " bidirectional (Bidirectiona  (None, 36, 512)          1050624   \n",
            " l)                                                              \n",
            "                                                                 \n",
            " dropout_4 (Dropout)         (None, 36, 512)           0         \n",
            "                                                                 \n",
            " bidirectional_1 (Bidirectio  (None, 36, 256)          656384    \n",
            " nal)                                                            \n",
            "                                                                 \n",
            " dropout_5 (Dropout)         (None, 36, 256)           0         \n",
            "                                                                 \n",
            " bidirectional_2 (Bidirectio  (None, 36, 256)          394240    \n",
            " nal)                                                            \n",
            "                                                                 \n",
            " dropout_6 (Dropout)         (None, 36, 256)           0         \n",
            "                                                                 \n",
            " flatten (Flatten)           (None, 9216)              0         \n",
            "                                                                 \n",
            " dense (Dense)               (None, 256)               2359552   \n",
            "                                                                 \n",
            " batch_normalization (BatchN  (None, 256)              1024      \n",
            " ormalization)                                                   \n",
            "                                                                 \n",
            " dropout_7 (Dropout)         (None, 256)               0         \n",
            "                                                                 \n",
            " dense_1 (Dense)             (None, 256)               65792     \n",
            "                                                                 \n",
            " batch_normalization_1 (Batc  (None, 256)              1024      \n",
            " hNormalization)                                                 \n",
            "                                                                 \n",
            " dropout_8 (Dropout)         (None, 256)               0         \n",
            "                                                                 \n",
            " dense_2 (Dense)             (None, 10)                2570      \n",
            "                                                                 \n",
            "=================================================================\n",
            "Total params: 4,811,402\n",
            "Trainable params: 4,810,378\n",
            "Non-trainable params: 1,024\n",
            "_________________________________________________________________\n"
          ]
        }
      ],
      "source": [
        "model.summary()"
      ]
    },
    {
      "cell_type": "code",
      "execution_count": 9,
      "metadata": {
        "colab": {
          "base_uri": "https://localhost:8080/"
        },
        "id": "RtiUMfx1CDB8",
        "outputId": "009c298e-6d5c-44dc-d9a7-00d4ea7cea06"
      },
      "outputs": [
        {
          "output_type": "stream",
          "name": "stdout",
          "text": [
            "Epoch 1/70\n",
            "221/221 [==============================] - 36s 45ms/step - loss: 7.5579 - accuracy: 0.2842\n",
            "Epoch 2/70\n",
            "221/221 [==============================] - 9s 40ms/step - loss: 5.0108 - accuracy: 0.4570\n",
            "Epoch 3/70\n",
            "221/221 [==============================] - 9s 40ms/step - loss: 3.6945 - accuracy: 0.5548\n",
            "Epoch 4/70\n",
            "221/221 [==============================] - 9s 41ms/step - loss: 2.9082 - accuracy: 0.6133\n",
            "Epoch 5/70\n",
            "221/221 [==============================] - 9s 41ms/step - loss: 2.3947 - accuracy: 0.6532\n",
            "Epoch 6/70\n",
            "221/221 [==============================] - 9s 42ms/step - loss: 2.0497 - accuracy: 0.6791\n",
            "Epoch 7/70\n",
            "221/221 [==============================] - 9s 43ms/step - loss: 1.7946 - accuracy: 0.7088\n",
            "Epoch 8/70\n",
            "221/221 [==============================] - 9s 42ms/step - loss: 1.6037 - accuracy: 0.7269\n",
            "Epoch 9/70\n",
            "221/221 [==============================] - 9s 42ms/step - loss: 1.4460 - accuracy: 0.7489\n",
            "Epoch 10/70\n",
            "221/221 [==============================] - 9s 42ms/step - loss: 1.3217 - accuracy: 0.7659\n",
            "Epoch 11/70\n",
            "221/221 [==============================] - 9s 41ms/step - loss: 1.2276 - accuracy: 0.7749\n",
            "Epoch 12/70\n",
            "221/221 [==============================] - 9s 41ms/step - loss: 1.1428 - accuracy: 0.7861\n",
            "Epoch 13/70\n",
            "221/221 [==============================] - 9s 42ms/step - loss: 1.0639 - accuracy: 0.8015\n",
            "Epoch 14/70\n",
            "221/221 [==============================] - 9s 42ms/step - loss: 1.0058 - accuracy: 0.8088\n",
            "Epoch 15/70\n",
            "221/221 [==============================] - 9s 42ms/step - loss: 0.9465 - accuracy: 0.8169\n",
            "Epoch 16/70\n",
            "221/221 [==============================] - 9s 42ms/step - loss: 0.8921 - accuracy: 0.8245\n",
            "Epoch 17/70\n",
            "221/221 [==============================] - 9s 42ms/step - loss: 0.8555 - accuracy: 0.8303\n",
            "Epoch 18/70\n",
            "221/221 [==============================] - 9s 41ms/step - loss: 0.8053 - accuracy: 0.8396\n",
            "Epoch 19/70\n",
            "221/221 [==============================] - 9s 43ms/step - loss: 0.7641 - accuracy: 0.8486\n",
            "Epoch 20/70\n",
            "221/221 [==============================] - 9s 43ms/step - loss: 0.7340 - accuracy: 0.8560\n",
            "Epoch 21/70\n",
            "221/221 [==============================] - 9s 42ms/step - loss: 0.7029 - accuracy: 0.8600\n",
            "Epoch 22/70\n",
            "221/221 [==============================] - 9s 42ms/step - loss: 0.6690 - accuracy: 0.8684\n",
            "Epoch 23/70\n",
            "221/221 [==============================] - 9s 42ms/step - loss: 0.6431 - accuracy: 0.8725\n",
            "Epoch 24/70\n",
            "221/221 [==============================] - 9s 42ms/step - loss: 0.6141 - accuracy: 0.8795\n",
            "Epoch 25/70\n",
            "221/221 [==============================] - 9s 41ms/step - loss: 0.5942 - accuracy: 0.8836\n",
            "Epoch 26/70\n",
            "221/221 [==============================] - 9s 42ms/step - loss: 0.5658 - accuracy: 0.8907\n",
            "Epoch 27/70\n",
            "221/221 [==============================] - 9s 42ms/step - loss: 0.5456 - accuracy: 0.8960\n",
            "Epoch 28/70\n",
            "221/221 [==============================] - 9s 41ms/step - loss: 0.5243 - accuracy: 0.9015\n",
            "Epoch 29/70\n",
            "221/221 [==============================] - 9s 42ms/step - loss: 0.4977 - accuracy: 0.9087\n",
            "Epoch 30/70\n",
            "221/221 [==============================] - 9s 42ms/step - loss: 0.4760 - accuracy: 0.9140\n",
            "Epoch 31/70\n",
            "221/221 [==============================] - 9s 42ms/step - loss: 0.4622 - accuracy: 0.9163\n",
            "Epoch 32/70\n",
            "221/221 [==============================] - 9s 42ms/step - loss: 0.4505 - accuracy: 0.9205\n",
            "Epoch 33/70\n",
            "221/221 [==============================] - 9s 42ms/step - loss: 0.4296 - accuracy: 0.9262\n",
            "Epoch 34/70\n",
            "221/221 [==============================] - 9s 42ms/step - loss: 0.4231 - accuracy: 0.9272\n",
            "Epoch 35/70\n",
            "221/221 [==============================] - 9s 42ms/step - loss: 0.4019 - accuracy: 0.9348\n",
            "Epoch 36/70\n",
            "221/221 [==============================] - 9s 42ms/step - loss: 0.3889 - accuracy: 0.9372\n",
            "Epoch 37/70\n",
            "221/221 [==============================] - 9s 42ms/step - loss: 0.3717 - accuracy: 0.9436\n",
            "Epoch 38/70\n",
            "221/221 [==============================] - 9s 42ms/step - loss: 0.3625 - accuracy: 0.9463\n",
            "Epoch 39/70\n",
            "221/221 [==============================] - 9s 42ms/step - loss: 0.3505 - accuracy: 0.9504\n",
            "Epoch 40/70\n",
            "221/221 [==============================] - 9s 42ms/step - loss: 0.3381 - accuracy: 0.9530\n",
            "Epoch 41/70\n",
            "221/221 [==============================] - 9s 42ms/step - loss: 0.3282 - accuracy: 0.9557\n",
            "Epoch 42/70\n",
            "221/221 [==============================] - 9s 42ms/step - loss: 0.3117 - accuracy: 0.9611\n",
            "Epoch 43/70\n",
            "221/221 [==============================] - 9s 42ms/step - loss: 0.3106 - accuracy: 0.9599\n",
            "Epoch 44/70\n",
            "221/221 [==============================] - 9s 42ms/step - loss: 0.3033 - accuracy: 0.9632\n",
            "Epoch 45/70\n",
            "221/221 [==============================] - 9s 42ms/step - loss: 0.2930 - accuracy: 0.9661\n",
            "Epoch 46/70\n",
            "221/221 [==============================] - 9s 42ms/step - loss: 0.2880 - accuracy: 0.9674\n",
            "Epoch 47/70\n",
            "221/221 [==============================] - 9s 41ms/step - loss: 0.2812 - accuracy: 0.9688\n",
            "Epoch 48/70\n",
            "221/221 [==============================] - 9s 42ms/step - loss: 0.2792 - accuracy: 0.9683\n",
            "Epoch 49/70\n",
            "221/221 [==============================] - 9s 42ms/step - loss: 0.2733 - accuracy: 0.9708\n",
            "Epoch 50/70\n",
            "221/221 [==============================] - 9s 42ms/step - loss: 0.2600 - accuracy: 0.9744\n",
            "Epoch 51/70\n",
            "221/221 [==============================] - 9s 42ms/step - loss: 0.2599 - accuracy: 0.9732\n",
            "Epoch 52/70\n",
            "221/221 [==============================] - 9s 42ms/step - loss: 0.2606 - accuracy: 0.9727\n",
            "Epoch 53/70\n",
            "221/221 [==============================] - 9s 43ms/step - loss: 0.2543 - accuracy: 0.9753\n",
            "Epoch 54/70\n",
            "221/221 [==============================] - 9s 42ms/step - loss: 0.2615 - accuracy: 0.9727\n",
            "Epoch 55/70\n",
            "221/221 [==============================] - 9s 42ms/step - loss: 0.2501 - accuracy: 0.9765\n",
            "Epoch 56/70\n",
            "221/221 [==============================] - 9s 42ms/step - loss: 0.2402 - accuracy: 0.9792\n",
            "Epoch 57/70\n",
            "221/221 [==============================] - 9s 41ms/step - loss: 0.2327 - accuracy: 0.9803\n",
            "Epoch 58/70\n",
            "221/221 [==============================] - 9s 43ms/step - loss: 0.2350 - accuracy: 0.9783\n",
            "Epoch 59/70\n",
            "221/221 [==============================] - 9s 42ms/step - loss: 0.2292 - accuracy: 0.9804\n",
            "Epoch 60/70\n",
            "221/221 [==============================] - 9s 41ms/step - loss: 0.2311 - accuracy: 0.9803\n",
            "Epoch 61/70\n",
            "221/221 [==============================] - 9s 42ms/step - loss: 0.2422 - accuracy: 0.9764\n",
            "Epoch 62/70\n",
            "221/221 [==============================] - 9s 42ms/step - loss: 0.2352 - accuracy: 0.9792\n",
            "Epoch 63/70\n",
            "221/221 [==============================] - 9s 41ms/step - loss: 0.2230 - accuracy: 0.9828\n",
            "Epoch 64/70\n",
            "221/221 [==============================] - 9s 41ms/step - loss: 0.2231 - accuracy: 0.9819\n",
            "Epoch 65/70\n",
            "221/221 [==============================] - 9s 42ms/step - loss: 0.2240 - accuracy: 0.9817\n",
            "Epoch 66/70\n",
            "221/221 [==============================] - 9s 42ms/step - loss: 0.2189 - accuracy: 0.9827\n",
            "Epoch 67/70\n",
            "221/221 [==============================] - 9s 41ms/step - loss: 0.2155 - accuracy: 0.9833\n",
            "Epoch 68/70\n",
            "221/221 [==============================] - 9s 43ms/step - loss: 0.2161 - accuracy: 0.9831\n",
            "Epoch 69/70\n",
            "221/221 [==============================] - 9s 43ms/step - loss: 0.2299 - accuracy: 0.9793\n",
            "Epoch 70/70\n",
            "221/221 [==============================] - 9s 42ms/step - loss: 0.2293 - accuracy: 0.9819\n"
          ]
        },
        {
          "output_type": "execute_result",
          "data": {
            "text/plain": [
              "<keras.callbacks.History at 0x7fda80976910>"
            ]
          },
          "metadata": {},
          "execution_count": 9
        }
      ],
      "source": [
        "model.compile(optimizer = Adam(learning_rate = 0.0001), loss = 'sparse_categorical_crossentropy', metrics = ['accuracy'])\n",
        "model.fit(x = X_train, y = y_train, batch_size = 128, epochs = 70)"
      ]
    },
    {
      "cell_type": "code",
      "source": [
        "score = model.evaluate(X_test, y_test, batch_size = 128)"
      ],
      "metadata": {
        "colab": {
          "base_uri": "https://localhost:8080/"
        },
        "id": "E2DmuCsKLGno",
        "outputId": "38c1b778-5f31-4daa-9c41-32d47ab70608"
      },
      "execution_count": 10,
      "outputs": [
        {
          "output_type": "stream",
          "name": "stdout",
          "text": [
            "74/74 [==============================] - 4s 21ms/step - loss: 0.3588 - accuracy: 0.9518\n"
          ]
        }
      ]
    },
    {
      "cell_type": "code",
      "source": [
        "model.save('/content/drive/My Drive/majorproject/lstm_model.h5') "
      ],
      "metadata": {
        "id": "W07CecHtc5Ut"
      },
      "execution_count": null,
      "outputs": []
    },
    {
      "cell_type": "markdown",
      "source": [
        "ACCURACY ACHIEVED BY MODEL"
      ],
      "metadata": {
        "id": "stPuf4DpN3Oj"
      }
    },
    {
      "cell_type": "code",
      "source": [
        "print(\"Accuracy achieved \", round(score[1]*100, 2))"
      ],
      "metadata": {
        "colab": {
          "base_uri": "https://localhost:8080/"
        },
        "id": "K0LfT-BaLcnJ",
        "outputId": "f9bc741b-7acf-4cc9-9ae6-f7e93fc33f85"
      },
      "execution_count": 11,
      "outputs": [
        {
          "output_type": "stream",
          "name": "stdout",
          "text": [
            "Accuracy achieved  95.18\n"
          ]
        }
      ]
    },
    {
      "cell_type": "code",
      "source": [
        "y_pred = np.argmax(model.predict(X_test), axis = -1)"
      ],
      "metadata": {
        "colab": {
          "base_uri": "https://localhost:8080/"
        },
        "id": "Al6_uZvrLoHs",
        "outputId": "5a81fef9-a989-423e-c432-aef8674f1e27"
      },
      "execution_count": 12,
      "outputs": [
        {
          "output_type": "stream",
          "name": "stdout",
          "text": [
            "295/295 [==============================] - 6s 9ms/step\n"
          ]
        }
      ]
    },
    {
      "cell_type": "code",
      "source": [
        "from sklearn.metrics import confusion_matrix\n",
        "matrix = confusion_matrix(y_test, y_pred)    \n",
        "\n",
        "a = matrix.diagonal()/matrix.sum(axis = 1) "
      ],
      "metadata": {
        "id": "YIv8lvh0MB8L"
      },
      "execution_count": 14,
      "outputs": []
    },
    {
      "cell_type": "code",
      "source": [
        "for i in range(len(a)):\n",
        "  if(i==0):\n",
        "    temp = 'ALMI'\n",
        "  elif(i==1):\n",
        "    temp = 'AMI'\n",
        "  elif(i==2):\n",
        "    temp = 'ASMI'\n",
        "  elif(i==3):\n",
        "    temp = 'ILMI'\n",
        "  elif(i==4):\n",
        "    temp = 'IMI'\n",
        "  elif(i==5):\n",
        "    temp = 'IPLMI'\n",
        "  elif(i==6):\n",
        "    temp = 'IPMI'\n",
        "  elif(i==7):\n",
        "    temp = 'LMI'\n",
        "  elif(i==8):\n",
        "    temp = 'NORM'\n",
        "  else:\n",
        "    temp = 'PMI'\n",
        "  print('Accuracy of the model on   ' + temp + ' = ', np.round(a[i]*100, 2))"
      ],
      "metadata": {
        "colab": {
          "base_uri": "https://localhost:8080/"
        },
        "id": "hHL34RSVMWnE",
        "outputId": "bb0d942a-d53a-4f8b-e38f-e05a777e1d3c"
      },
      "execution_count": 15,
      "outputs": [
        {
          "output_type": "stream",
          "name": "stdout",
          "text": [
            "Accuracy of the model on   ALMI =  99.91\n",
            "Accuracy of the model on   AMI =  97.63\n",
            "Accuracy of the model on   ASMI =  85.57\n",
            "Accuracy of the model on   ILMI =  96.35\n",
            "Accuracy of the model on   IMI =  82.66\n",
            "Accuracy of the model on   IPLMI =  100.0\n",
            "Accuracy of the model on   IPMI =  99.87\n",
            "Accuracy of the model on   LMI =  100.0\n",
            "Accuracy of the model on   NORM =  85.82\n",
            "Accuracy of the model on   PMI =  100.0\n"
          ]
        }
      ]
    },
    {
      "cell_type": "code",
      "source": [
        "from sklearn.metrics import classification_report\n",
        "report = classification_report(y_test, y_pred)\n",
        "print(report)"
      ],
      "metadata": {
        "colab": {
          "base_uri": "https://localhost:8080/"
        },
        "id": "qGmnKlvfMoPa",
        "outputId": "7833350e-bd1a-4e0e-d74c-d0f1d67ed399"
      },
      "execution_count": 17,
      "outputs": [
        {
          "output_type": "stream",
          "name": "stdout",
          "text": [
            "              precision    recall  f1-score   support\n",
            "\n",
            "           0       0.98      1.00      0.99      1128\n",
            "           1       0.94      0.98      0.96       928\n",
            "           2       0.85      0.86      0.85       797\n",
            "           3       0.95      0.96      0.96       987\n",
            "           4       0.89      0.83      0.86       969\n",
            "           5       1.00      1.00      1.00       911\n",
            "           6       1.00      1.00      1.00       745\n",
            "           7       0.98      1.00      0.99      1112\n",
            "           8       0.89      0.86      0.87       783\n",
            "           9       1.00      1.00      1.00      1061\n",
            "\n",
            "    accuracy                           0.95      9421\n",
            "   macro avg       0.95      0.95      0.95      9421\n",
            "weighted avg       0.95      0.95      0.95      9421\n",
            "\n"
          ]
        }
      ]
    },
    {
      "cell_type": "code",
      "source": [
        "from sklearn.metrics import confusion_matrix\n",
        "def multiclass_sensitivity(true_labels, predicted_labels, num_classes):\n",
        "    cm = confusion_matrix(true_labels, predicted_labels)\n",
        "    sensitivities = []\n",
        "    for i in range(num_classes):\n",
        "        tp = cm[i][i]\n",
        "        fn = sum(cm[i, :]) - tp\n",
        "        sensitivity = tp / (tp + fn)\n",
        "        sensitivities.append(sensitivity)\n",
        "    avg_sensitivity = sum(sensitivities) / num_classes\n",
        "    return avg_sensitivity\n",
        "  "
      ],
      "metadata": {
        "id": "gIHaXoAtM38L"
      },
      "execution_count": 18,
      "outputs": []
    },
    {
      "cell_type": "code",
      "source": [
        "multiclass_sensitivity(y_test,y_pred,10)"
      ],
      "metadata": {
        "colab": {
          "base_uri": "https://localhost:8080/"
        },
        "id": "r_YQa_ZzM9g2",
        "outputId": "7dc7a73e-583b-47f4-b9c4-0d73b648ca90"
      },
      "execution_count": 19,
      "outputs": [
        {
          "output_type": "execute_result",
          "data": {
            "text/plain": [
              "0.9478161975908795"
            ]
          },
          "metadata": {},
          "execution_count": 19
        }
      ]
    },
    {
      "cell_type": "code",
      "source": [
        "from sklearn.metrics import confusion_matrix\n",
        "def multiclass_specificity(true_labels, predicted_labels, num_classes):\n",
        "    cm = confusion_matrix(true_labels, predicted_labels)\n",
        "    specificities = []\n",
        "    for i in range(num_classes):\n",
        "        tn = (cm.sum() - cm[i].sum() - cm[:, i].sum() + cm[i, i])\n",
        "        fp = cm[:, i].sum() - cm[i, i]\n",
        "        specificity = tn / (tn + fp)\n",
        "        specificities.append(specificity)\n",
        "    avg_specificity = sum(specificities) / num_classes\n",
        "    return avg_specificity"
      ],
      "metadata": {
        "id": "c9h8v1gRNCAt"
      },
      "execution_count": 20,
      "outputs": []
    },
    {
      "cell_type": "code",
      "source": [
        "multiclass_specificity(y_test,y_pred,10)"
      ],
      "metadata": {
        "colab": {
          "base_uri": "https://localhost:8080/"
        },
        "id": "a5bREuSuNIOd",
        "outputId": "6a4455eb-bb5c-4f36-f59e-c764a6e0a6cc"
      },
      "execution_count": 21,
      "outputs": [
        {
          "output_type": "execute_result",
          "data": {
            "text/plain": [
              "0.9946711753146292"
            ]
          },
          "metadata": {},
          "execution_count": 21
        }
      ]
    }
  ],
  "metadata": {
    "accelerator": "GPU",
    "colab": {
      "provenance": []
    },
    "gpuClass": "standard",
    "kernelspec": {
      "display_name": "Python 3",
      "name": "python3"
    },
    "language_info": {
      "name": "python"
    }
  },
  "nbformat": 4,
  "nbformat_minor": 0
}